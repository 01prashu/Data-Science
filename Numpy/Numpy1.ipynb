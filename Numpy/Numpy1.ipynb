{
 "cells": [
  {
   "cell_type": "code",
   "execution_count": 1,
   "id": "6f3b0f66",
   "metadata": {},
   "outputs": [],
   "source": [
    "import numpy as np"
   ]
  },
  {
   "cell_type": "code",
   "execution_count": 2,
   "id": "d418a185",
   "metadata": {},
   "outputs": [
    {
     "data": {
      "text/plain": [
       "list"
      ]
     },
     "execution_count": 2,
     "metadata": {},
     "output_type": "execute_result"
    }
   ],
   "source": [
    "arr1=[[1 , 2],\n",
    "     [3 , 4]]\n",
    "type(arr1)"
   ]
  },
  {
   "cell_type": "code",
   "execution_count": 3,
   "id": "36fa5f3e",
   "metadata": {},
   "outputs": [
    {
     "data": {
      "text/plain": [
       "list"
      ]
     },
     "execution_count": 3,
     "metadata": {},
     "output_type": "execute_result"
    }
   ],
   "source": [
    "arr2=[[11 ,12 ],\n",
    "     [13 , 14]]\n",
    "type(arr2)"
   ]
  },
  {
   "cell_type": "code",
   "execution_count": 11,
   "id": "45294a66",
   "metadata": {},
   "outputs": [
    {
     "data": {
      "text/plain": [
       "array([[ 1,  2],\n",
       "       [ 3,  4],\n",
       "       [11, 12],\n",
       "       [13, 14]])"
      ]
     },
     "execution_count": 11,
     "metadata": {},
     "output_type": "execute_result"
    }
   ],
   "source": [
    "arr1 = np.array(arr1)\n",
    "arr2 = np.array(arr2)\n",
    "arr3 = np.concatenate((arr1 , arr2) , axis = 0)\n",
    "arr3"
   ]
  },
  {
   "cell_type": "code",
   "execution_count": 12,
   "id": "37dea8e9",
   "metadata": {},
   "outputs": [
    {
     "data": {
      "text/plain": [
       "(4, 2)"
      ]
     },
     "execution_count": 12,
     "metadata": {},
     "output_type": "execute_result"
    }
   ],
   "source": [
    "arr3.shape"
   ]
  },
  {
   "cell_type": "code",
   "execution_count": 13,
   "id": "55a34880",
   "metadata": {},
   "outputs": [
    {
     "data": {
      "text/plain": [
       "array([[12, 14],\n",
       "       [16, 18]])"
      ]
     },
     "execution_count": 13,
     "metadata": {},
     "output_type": "execute_result"
    }
   ],
   "source": [
    "arr3=arr1+arr2\n",
    "arr3"
   ]
  },
  {
   "cell_type": "code",
   "execution_count": 14,
   "id": "221679a1",
   "metadata": {},
   "outputs": [
    {
     "data": {
      "text/plain": [
       "array([[11, 24],\n",
       "       [39, 56]])"
      ]
     },
     "execution_count": 14,
     "metadata": {},
     "output_type": "execute_result"
    }
   ],
   "source": [
    "arr3=arr1 * arr2\n",
    "arr3"
   ]
  },
  {
   "cell_type": "code",
   "execution_count": 15,
   "id": "31491287",
   "metadata": {},
   "outputs": [
    {
     "data": {
      "text/plain": [
       "array([[11, 24, 39, 56]])"
      ]
     },
     "execution_count": 15,
     "metadata": {},
     "output_type": "execute_result"
    }
   ],
   "source": [
    "arr3.reshape( 1 ,4)"
   ]
  },
  {
   "cell_type": "code",
   "execution_count": 16,
   "id": "8bcdb5eb",
   "metadata": {},
   "outputs": [],
   "source": [
    "arr1=list(range(100000))\n",
    "arr2=list(range(100000 , 200000))\n",
    "\n",
    "np_arr1=np.array(arr1)\n",
    "np_arr2=np.array(arr2)"
   ]
  },
  {
   "cell_type": "code",
   "execution_count": 18,
   "id": "8109d02d",
   "metadata": {},
   "outputs": [
    {
     "name": "stdout",
     "output_type": "stream",
     "text": [
      "CPU times: total: 15.6 ms\n",
      "Wall time: 44.5 ms\n"
     ]
    },
    {
     "data": {
      "text/plain": [
       "833323333350000"
      ]
     },
     "execution_count": 18,
     "metadata": {},
     "output_type": "execute_result"
    }
   ],
   "source": [
    "%%time\n",
    "result=0\n",
    "for x1, y1 in zip(arr1, arr2):\n",
    "    result=result+(x1*y1)\n",
    "result"
   ]
  },
  {
   "cell_type": "code",
   "execution_count": 19,
   "id": "6b03c3c6",
   "metadata": {},
   "outputs": [
    {
     "name": "stdout",
     "output_type": "stream",
     "text": [
      "CPU times: total: 0 ns\n",
      "Wall time: 0 ns\n"
     ]
    },
    {
     "data": {
      "text/plain": [
       "893678192"
      ]
     },
     "execution_count": 19,
     "metadata": {},
     "output_type": "execute_result"
    }
   ],
   "source": [
    "%%time\n",
    "np.dot(np_arr1 , np_arr2)"
   ]
  },
  {
   "cell_type": "code",
   "execution_count": 20,
   "id": "ebedb15e",
   "metadata": {},
   "outputs": [
    {
     "data": {
      "text/plain": [
       "893678192"
      ]
     },
     "execution_count": 20,
     "metadata": {},
     "output_type": "execute_result"
    }
   ],
   "source": [
    "np.matmul(np_arr1 , np_arr2)"
   ]
  },
  {
   "cell_type": "code",
   "execution_count": null,
   "id": "314e66e9",
   "metadata": {},
   "outputs": [],
   "source": [
    "#working with csv file"
   ]
  },
  {
   "cell_type": "markdown",
   "id": "7b85bba4",
   "metadata": {},
   "source": [
    "Working with CSV data files\n",
    "Numpy also provides helper functions reading from & writing to files. Let's download a file climate.txt, which contains 10,000 climate measurements (temperature, rainfall & humidity) in the following format:\n",
    "\n",
    "temperature,rainfall,humidity\n",
    "25.00,76.00,99.00\n",
    "39.00,65.00,70.00\n",
    "59.00,45.00,77.00\n",
    "84.00,63.00,38.00\n",
    "66.00,50.00,52.00\n",
    "41.00,94.00,77.00\n",
    "91.00,57.00,96.00\n",
    "49.00,96.00,99.00\n",
    "67.00,20.00,28.00\n",
    "...\n",
    "This format of storing data is known as comma-separated values or CSV."
   ]
  },
  {
   "cell_type": "code",
   "execution_count": 21,
   "id": "56727d41",
   "metadata": {},
   "outputs": [
    {
     "data": {
      "text/plain": [
       "('climate.txt', <http.client.HTTPMessage at 0x2115812b650>)"
      ]
     },
     "execution_count": 21,
     "metadata": {},
     "output_type": "execute_result"
    }
   ],
   "source": [
    "import urllib.request\n",
    "urllib.request.urlretrieve('https://gist.github.com/BirajCoder/a4ffcb76fd6fb221d76ac2ee2b8584e9/raw/4054f90adfd361b7aa4255e99c2e874664094cea/climate.csv', \n",
    "    'climate.txt')"
   ]
  },
  {
   "cell_type": "code",
   "execution_count": 22,
   "id": "4ee470db",
   "metadata": {},
   "outputs": [],
   "source": [
    "climate_data=np.genfromtxt('climate.txt',delimiter=',' , skip_header=1)"
   ]
  },
  {
   "cell_type": "code",
   "execution_count": 23,
   "id": "4023f071",
   "metadata": {},
   "outputs": [
    {
     "data": {
      "text/plain": [
       "array([[25., 76., 99.],\n",
       "       [39., 65., 70.],\n",
       "       [59., 45., 77.],\n",
       "       ...,\n",
       "       [99., 62., 58.],\n",
       "       [70., 71., 91.],\n",
       "       [92., 39., 76.]])"
      ]
     },
     "execution_count": 23,
     "metadata": {},
     "output_type": "execute_result"
    }
   ],
   "source": [
    "climate_data"
   ]
  },
  {
   "cell_type": "code",
   "execution_count": 24,
   "id": "448dc7bf",
   "metadata": {},
   "outputs": [
    {
     "data": {
      "text/plain": [
       "(10000, 3)"
      ]
     },
     "execution_count": 24,
     "metadata": {},
     "output_type": "execute_result"
    }
   ],
   "source": [
    "climate_data.shape"
   ]
  },
  {
   "cell_type": "code",
   "execution_count": 30,
   "id": "aa9a228d",
   "metadata": {},
   "outputs": [],
   "source": [
    "reshap=climate_data.reshape(1000 ,5, 6 )"
   ]
  },
  {
   "cell_type": "code",
   "execution_count": 31,
   "id": "53cdb379",
   "metadata": {},
   "outputs": [
    {
     "data": {
      "text/plain": [
       "array([[[25., 76., 99., 39., 65., 70.],\n",
       "        [59., 45., 77., 84., 63., 38.],\n",
       "        [66., 50., 52., 41., 94., 77.],\n",
       "        [91., 57., 96., 49., 96., 99.],\n",
       "        [67., 20., 28., 85., 31., 95.]],\n",
       "\n",
       "       [[78., 46., 34., 31., 40., 63.],\n",
       "        [52., 77., 85., 28., 66., 77.],\n",
       "        [32., 50., 57., 31., 79., 53.],\n",
       "        [45., 76., 48., 80., 52., 27.],\n",
       "        [24., 45., 90., 20., 89., 84.]],\n",
       "\n",
       "       [[32., 20., 96., 56., 44., 74.],\n",
       "        [93., 70., 80., 62., 87., 73.],\n",
       "        [85., 48., 90., 87., 86., 93.],\n",
       "        [43., 57., 69., 28., 71., 44.],\n",
       "        [44., 95., 58., 88., 48., 46.]],\n",
       "\n",
       "       ...,\n",
       "\n",
       "       [[52., 39., 20., 85., 84., 29.],\n",
       "        [83., 91., 59., 42., 23., 34.],\n",
       "        [50., 51., 66., 24., 81., 56.],\n",
       "        [49., 66., 41., 64., 91., 65.],\n",
       "        [45., 77., 34., 76., 79., 93.]],\n",
       "\n",
       "       [[77., 42., 58., 72., 69., 35.],\n",
       "        [92., 63., 60., 32., 88., 30.],\n",
       "        [67., 57., 42., 73., 60., 78.],\n",
       "        [64., 94., 57., 82., 44., 35.],\n",
       "        [31., 64., 29., 70., 48., 52.]],\n",
       "\n",
       "       [[92., 36., 20., 43., 24., 68.],\n",
       "        [23., 88., 63., 51., 66., 69.],\n",
       "        [49., 90., 47., 80., 72., 98.],\n",
       "        [27., 58., 60., 99., 62., 58.],\n",
       "        [70., 71., 91., 92., 39., 76.]]])"
      ]
     },
     "execution_count": 31,
     "metadata": {},
     "output_type": "execute_result"
    }
   ],
   "source": [
    "reshap"
   ]
  },
  {
   "cell_type": "code",
   "execution_count": 32,
   "id": "fa36dadc",
   "metadata": {},
   "outputs": [
    {
     "data": {
      "text/plain": [
       "array([[25., 76., 99.],\n",
       "       [39., 65., 70.],\n",
       "       [59., 45., 77.],\n",
       "       ...,\n",
       "       [99., 62., 58.],\n",
       "       [70., 71., 91.],\n",
       "       [92., 39., 76.]])"
      ]
     },
     "execution_count": 32,
     "metadata": {},
     "output_type": "execute_result"
    }
   ],
   "source": [
    "climate_data"
   ]
  },
  {
   "cell_type": "code",
   "execution_count": 33,
   "id": "c96adc14",
   "metadata": {},
   "outputs": [],
   "source": [
    "weights = np.array([0.3, 0.2, 0.5])"
   ]
  },
  {
   "cell_type": "code",
   "execution_count": 34,
   "id": "e6fa3937",
   "metadata": {},
   "outputs": [
    {
     "data": {
      "text/plain": [
       "array([72.2, 59.7, 65.2, ..., 71.1, 80.7, 73.4])"
      ]
     },
     "execution_count": 34,
     "metadata": {},
     "output_type": "execute_result"
    }
   ],
   "source": [
    "yields = climate_data @ weights\n",
    "yields"
   ]
  },
  {
   "cell_type": "code",
   "execution_count": 35,
   "id": "4f4cc4c2",
   "metadata": {},
   "outputs": [
    {
     "data": {
      "text/plain": [
       "(10000,)"
      ]
     },
     "execution_count": 35,
     "metadata": {},
     "output_type": "execute_result"
    }
   ],
   "source": [
    "yields.shape"
   ]
  },
  {
   "cell_type": "code",
   "execution_count": 39,
   "id": "670d6401",
   "metadata": {},
   "outputs": [],
   "source": [
    "# yields.reshape(10000 , 1)\n",
    "#converted in the form of column"
   ]
  },
  {
   "cell_type": "code",
   "execution_count": 42,
   "id": "ba004b31",
   "metadata": {},
   "outputs": [
    {
     "data": {
      "text/plain": [
       "array([[25. , 76. , 99. , 72.2],\n",
       "       [39. , 65. , 70. , 59.7],\n",
       "       [59. , 45. , 77. , 65.2],\n",
       "       ...,\n",
       "       [99. , 62. , 58. , 71.1],\n",
       "       [70. , 71. , 91. , 80.7],\n",
       "       [92. , 39. , 76. , 73.4]])"
      ]
     },
     "execution_count": 42,
     "metadata": {},
     "output_type": "execute_result"
    }
   ],
   "source": [
    "climate_result=np.concatenate((climate_data ,yields.reshape(10000 , 1)) , axis=1)\n",
    "climate_result"
   ]
  },
  {
   "cell_type": "code",
   "execution_count": 44,
   "id": "eabf75ff",
   "metadata": {},
   "outputs": [],
   "source": [
    "np.savetxt('climate_results.txt', \n",
    "           climate_result, \n",
    "           fmt='%.2f', \n",
    "           delimiter=',',\n",
    "           header='temperature,rainfall,humidity,yeild_apples', \n",
    "           comments='')"
   ]
  },
  {
   "cell_type": "markdown",
   "id": "908a936b",
   "metadata": {},
   "source": [
    "# Arithmetic operation , brodcasting and Comparision"
   ]
  },
  {
   "cell_type": "code",
   "execution_count": 45,
   "id": "71bf6869",
   "metadata": {},
   "outputs": [],
   "source": [
    "arr2 = np.array([[1, 2, 3, 4], \n",
    "                 [5, 6, 7, 8], \n",
    "                 [9, 1, 2, 3]])"
   ]
  },
  {
   "cell_type": "code",
   "execution_count": 46,
   "id": "a456a3e2",
   "metadata": {},
   "outputs": [
    {
     "data": {
      "text/plain": [
       "(3, 4)"
      ]
     },
     "execution_count": 46,
     "metadata": {},
     "output_type": "execute_result"
    }
   ],
   "source": [
    "arr2.shape"
   ]
  },
  {
   "cell_type": "code",
   "execution_count": 47,
   "id": "9ee55aea",
   "metadata": {},
   "outputs": [
    {
     "data": {
      "text/plain": [
       "(2,)"
      ]
     },
     "execution_count": 47,
     "metadata": {},
     "output_type": "execute_result"
    }
   ],
   "source": [
    "arr3 = np.array([7, 8])\n",
    "arr3.shape"
   ]
  },
  {
   "cell_type": "code",
   "execution_count": 50,
   "id": "11825dd7",
   "metadata": {},
   "outputs": [],
   "source": [
    "arr1 = np.array([[1, 2, 3], [3, 4, 5]])\n",
    "arr2 = np.array([[2, 2, 3], [1, 2, 5]])"
   ]
  },
  {
   "cell_type": "code",
   "execution_count": 51,
   "id": "5dd6bff3",
   "metadata": {},
   "outputs": [
    {
     "data": {
      "text/plain": [
       "array([[False,  True,  True],\n",
       "       [False, False,  True]])"
      ]
     },
     "execution_count": 51,
     "metadata": {},
     "output_type": "execute_result"
    }
   ],
   "source": [
    "arr1 == arr2"
   ]
  },
  {
   "cell_type": "code",
   "execution_count": null,
   "id": "20c6a4ee",
   "metadata": {},
   "outputs": [],
   "source": []
  }
 ],
 "metadata": {
  "kernelspec": {
   "display_name": "Python 3 (ipykernel)",
   "language": "python",
   "name": "python3"
  },
  "language_info": {
   "codemirror_mode": {
    "name": "ipython",
    "version": 3
   },
   "file_extension": ".py",
   "mimetype": "text/x-python",
   "name": "python",
   "nbconvert_exporter": "python",
   "pygments_lexer": "ipython3",
   "version": "3.11.0"
  }
 },
 "nbformat": 4,
 "nbformat_minor": 5
}
